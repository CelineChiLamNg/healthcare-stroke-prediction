{
 "cells": [
  {
   "metadata": {},
   "cell_type": "markdown",
   "source": [
    "<h1><center>Stroke Prediction</center></h1>\n",
    "<center>September 2024</center>\n",
    "<center>Celine Ng</center>"
   ],
   "id": "7046d3df85bd27e1"
  },
  {
   "metadata": {},
   "cell_type": "markdown",
   "source": [
    "# Table of Contents\n",
    "\n",
    "1. Project Introduction   \n",
    "    1. Libraries Installation\n",
    "    1. Dataset\n",
    "    1. Data Cleaning\n",
    "1. EDA\n",
    "    1. Distribution\n",
    "        1. Numeric Data\n",
    "        2. Categorical Data\n",
    "        3. Label\n",
    "            1. Summary\n",
    "    1. Correlation\n",
    "        1. Correlation with numerical features\n",
    "        1. Multicollinearity - Variance Inflation Factor\n",
    "    1. Statistic Inference\n",
    "        1. Target Population\n",
    "        2. Transform 'AnnualIncome'\n",
    "        3. Hypothesis Testing\n",
    "1. Preprocessing\n",
    "    1. Transformations\n",
    "    1. Data Splitting\n",
    "1. Models\n",
    "    1. Apply various models\n",
    "    1. Ensemble - Voting\n",
    "1. Improvements"
   ],
   "id": "a5e367a9937a2716"
  },
  {
   "metadata": {},
   "cell_type": "code",
   "outputs": [],
   "execution_count": null,
   "source": "",
   "id": "3551992471e41976"
  }
 ],
 "metadata": {
  "kernelspec": {
   "display_name": "Python 3",
   "language": "python",
   "name": "python3"
  },
  "language_info": {
   "codemirror_mode": {
    "name": "ipython",
    "version": 2
   },
   "file_extension": ".py",
   "mimetype": "text/x-python",
   "name": "python",
   "nbconvert_exporter": "python",
   "pygments_lexer": "ipython2",
   "version": "2.7.6"
  }
 },
 "nbformat": 4,
 "nbformat_minor": 5
}
