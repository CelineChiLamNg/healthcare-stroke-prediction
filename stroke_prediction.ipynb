{
 "cells": [
  {
   "metadata": {},
   "cell_type": "markdown",
   "source": [
    "<h1><center>Stroke Prediction</center></h1>\n",
    "<center>September 2024</center>\n",
    "<center>Celine Ng</center>"
   ],
   "id": "7046d3df85bd27e1"
  },
  {
   "metadata": {},
   "cell_type": "markdown",
   "source": [
    "# Table of Contents\n",
    "\n",
    "1. Project Introduction   \n",
    "    1. Notebook Preparation\n",
    "    1. Motivation and Objectives\n",
    "    1. Dataset\n",
    "1. Data Cleaning\n",
    "    1. Duplicate rows\n",
    "    1. Datatypes\n",
    "    1. Unique values\n",
    "    1. Missing values\n",
    "1. EDA\n",
    "    1. Distribution\n",
    "    1. Missing Values\n",
    "    1. Correlation\n",
    "        1. Correlation with numerical features\n",
    "        1. Multicollinearity - Variance Inflation Factor\n",
    "    1. Statistic Inference\n",
    "        1. Target Population\n",
    "        2. Transform 'AnnualIncome'\n",
    "        3. Hypothesis Testing\n",
    "1. Preprocessing\n",
    "    1. Transformations\n",
    "    1. Data Splitting\n",
    "1. Models\n",
    "    1. Apply various models\n",
    "    1. Ensemble - Voting\n",
    "1. Improvements"
   ],
   "id": "a5e367a9937a2716"
  },
  {
   "metadata": {},
   "cell_type": "markdown",
   "source": "# 1. Project Introduction",
   "id": "324725f2163fc7f7"
  },
  {
   "metadata": {},
   "cell_type": "markdown",
   "source": "## 1.1. Notebook Preparation",
   "id": "7a982029f037f304"
  },
  {
   "metadata": {
    "ExecuteTime": {
     "end_time": "2024-09-20T23:17:56.835009Z",
     "start_time": "2024-09-20T23:17:56.049117Z"
    }
   },
   "cell_type": "code",
   "source": [
    "%%capture\n",
    "%pip install -r requirements.txt"
   ],
   "id": "3551992471e41976",
   "outputs": [],
   "execution_count": 1
  },
  {
   "metadata": {
    "ExecuteTime": {
     "end_time": "2024-09-20T23:17:56.929030Z",
     "start_time": "2024-09-20T23:17:56.836671Z"
    }
   },
   "cell_type": "code",
   "source": [
    "from IPython.display import HTML\n",
    "import pandas as pd\n",
    "import numpy as np\n",
    "import matplotlib.pyplot as plt\n",
    "import seaborn as sns\n",
    "from utils.eda import *\n",
    "\n",
    "from sklearn.compose import make_column_selector as selector\n",
    "from sklearn.preprocessing import LabelEncoder"
   ],
   "id": "fe67298feee71bfd",
   "outputs": [],
   "execution_count": 2
  },
  {
   "metadata": {},
   "cell_type": "markdown",
   "source": [
    "custom_params = {\n",
    "    \"axes.spines.right\": False,\n",
    "    \"axes.spines.top\": False,\n",
    "    \"figure.figsize\": (8, 5),\n",
    "}\n",
    "sns.set_theme(\n",
    "    context=\"notebook\", style=\"whitegrid\", rc=custom_params\n",
    ")\n",
    "px.defaults.template = \"seaborn\"\n",
    "pd.set_option(\"display.precision\", 2)\n",
    "\n",
    "%matplotlib inline"
   ],
   "id": "fc41e7fabf7f8b98"
  },
  {
   "metadata": {},
   "cell_type": "markdown",
   "source": "## 1.2. Motivations and Objectives",
   "id": "7e4d6c6e5b024711"
  },
  {
   "metadata": {},
   "cell_type": "markdown",
   "source": [
    "This project's objectives are: \n",
    "<br><br>\n",
    "1. Practice performing EDA.\n",
    "2. Practice applying statistical inference procedures.\n",
    "3. Practice using various types of machine learning models.\n",
    "4. Practice building ensembles of machine learning models.\n",
    "5. Practice deploying machine learning models."
   ],
   "id": "91bbe7e4a627ff64"
  },
  {
   "metadata": {},
   "cell_type": "markdown",
   "source": [
    "## 1.3. Dataset\n",
    "\n",
    "Objective: Brief overview of our dataset, including the features and label"
   ],
   "id": "c4f28634cbf86ae"
  },
  {
   "metadata": {},
   "cell_type": "markdown",
   "source": [
    "The dataset was downloaded from Kaggle, [Stroke_Prediction_Data](https://www.kaggle.com/datasets/fedesoriano/stroke-prediction-dataset)\n",
    ",<br>\n",
    "on 10 September 2024. It will be used to predict whether a patient is likely\n",
    " <br> to get a stroke. <br>\n",
    "The data contains 11 clinical features, like gender, age, smoking status, <br>\n",
    "etc, that help describe each patient."
   ],
   "id": "688e85ca07589fce"
  },
  {
   "metadata": {},
   "cell_type": "markdown",
   "source": [
    "Features: <br>\n",
    "1) id: unique identifier\n",
    "2) gender: \"Male\", \"Female\" or \"Other\"\n",
    "3) age: age of the patient\n",
    "4) hypertension: 0 if the patient doesn't have hypertension, 1 if the patient has hypertension\n",
    "5) heart_disease: 0 if the patient doesn't have any heart diseases, 1 if the patient has a heart disease\n",
    "6) ever_married: \"No\" or \"Yes\"\n",
    "7) work_type: \"children\", \"Govt_jov\", \"Never_worked\", \"Private\" or \"Self-employed\"\n",
    "8) Residence_type: \"Rural\" or \"Urban\"\n",
    "9) avg_glucose_level: average glucose level in blood\n",
    "10) bmi: body mass index\n",
    "11) smoking_status: \"formerly smoked\", \"never smoked\", \"smokes\" or \"Unknown\"*\n",
    "<br>\n",
    "\n",
    "Label: <br>\n",
    "stroke: 1 if the patient had a stroke or 0 if not <br>"
   ],
   "id": "92f8134630a86d1d"
  },
  {
   "metadata": {
    "ExecuteTime": {
     "end_time": "2024-09-20T23:17:56.944469Z",
     "start_time": "2024-09-20T23:17:56.929675Z"
    }
   },
   "cell_type": "code",
   "source": [
    "stroke_data = pd.read_csv('data/healthcare-dataset-stroke-data.csv')\n",
    "display(stroke_data.head())\n",
    "shape = stroke_data.shape\n",
    "print(f'Number of rows: {shape[0]}\\nNumber of columns: {shape[1]}')"
   ],
   "id": "68d8ec22db22108d",
   "outputs": [
    {
     "data": {
      "text/plain": [
       "      id  gender   age  hypertension  heart_disease ever_married  \\\n",
       "0   9046    Male  67.0             0              1          Yes   \n",
       "1  51676  Female  61.0             0              0          Yes   \n",
       "2  31112    Male  80.0             0              1          Yes   \n",
       "3  60182  Female  49.0             0              0          Yes   \n",
       "4   1665  Female  79.0             1              0          Yes   \n",
       "\n",
       "       work_type Residence_type  avg_glucose_level   bmi   smoking_status  \\\n",
       "0        Private          Urban             228.69  36.6  formerly smoked   \n",
       "1  Self-employed          Rural             202.21   NaN     never smoked   \n",
       "2        Private          Rural             105.92  32.5     never smoked   \n",
       "3        Private          Urban             171.23  34.4           smokes   \n",
       "4  Self-employed          Rural             174.12  24.0     never smoked   \n",
       "\n",
       "   stroke  \n",
       "0       1  \n",
       "1       1  \n",
       "2       1  \n",
       "3       1  \n",
       "4       1  "
      ],
      "text/html": [
       "<div>\n",
       "<style scoped>\n",
       "    .dataframe tbody tr th:only-of-type {\n",
       "        vertical-align: middle;\n",
       "    }\n",
       "\n",
       "    .dataframe tbody tr th {\n",
       "        vertical-align: top;\n",
       "    }\n",
       "\n",
       "    .dataframe thead th {\n",
       "        text-align: right;\n",
       "    }\n",
       "</style>\n",
       "<table border=\"1\" class=\"dataframe\">\n",
       "  <thead>\n",
       "    <tr style=\"text-align: right;\">\n",
       "      <th></th>\n",
       "      <th>id</th>\n",
       "      <th>gender</th>\n",
       "      <th>age</th>\n",
       "      <th>hypertension</th>\n",
       "      <th>heart_disease</th>\n",
       "      <th>ever_married</th>\n",
       "      <th>work_type</th>\n",
       "      <th>Residence_type</th>\n",
       "      <th>avg_glucose_level</th>\n",
       "      <th>bmi</th>\n",
       "      <th>smoking_status</th>\n",
       "      <th>stroke</th>\n",
       "    </tr>\n",
       "  </thead>\n",
       "  <tbody>\n",
       "    <tr>\n",
       "      <th>0</th>\n",
       "      <td>9046</td>\n",
       "      <td>Male</td>\n",
       "      <td>67.0</td>\n",
       "      <td>0</td>\n",
       "      <td>1</td>\n",
       "      <td>Yes</td>\n",
       "      <td>Private</td>\n",
       "      <td>Urban</td>\n",
       "      <td>228.69</td>\n",
       "      <td>36.6</td>\n",
       "      <td>formerly smoked</td>\n",
       "      <td>1</td>\n",
       "    </tr>\n",
       "    <tr>\n",
       "      <th>1</th>\n",
       "      <td>51676</td>\n",
       "      <td>Female</td>\n",
       "      <td>61.0</td>\n",
       "      <td>0</td>\n",
       "      <td>0</td>\n",
       "      <td>Yes</td>\n",
       "      <td>Self-employed</td>\n",
       "      <td>Rural</td>\n",
       "      <td>202.21</td>\n",
       "      <td>NaN</td>\n",
       "      <td>never smoked</td>\n",
       "      <td>1</td>\n",
       "    </tr>\n",
       "    <tr>\n",
       "      <th>2</th>\n",
       "      <td>31112</td>\n",
       "      <td>Male</td>\n",
       "      <td>80.0</td>\n",
       "      <td>0</td>\n",
       "      <td>1</td>\n",
       "      <td>Yes</td>\n",
       "      <td>Private</td>\n",
       "      <td>Rural</td>\n",
       "      <td>105.92</td>\n",
       "      <td>32.5</td>\n",
       "      <td>never smoked</td>\n",
       "      <td>1</td>\n",
       "    </tr>\n",
       "    <tr>\n",
       "      <th>3</th>\n",
       "      <td>60182</td>\n",
       "      <td>Female</td>\n",
       "      <td>49.0</td>\n",
       "      <td>0</td>\n",
       "      <td>0</td>\n",
       "      <td>Yes</td>\n",
       "      <td>Private</td>\n",
       "      <td>Urban</td>\n",
       "      <td>171.23</td>\n",
       "      <td>34.4</td>\n",
       "      <td>smokes</td>\n",
       "      <td>1</td>\n",
       "    </tr>\n",
       "    <tr>\n",
       "      <th>4</th>\n",
       "      <td>1665</td>\n",
       "      <td>Female</td>\n",
       "      <td>79.0</td>\n",
       "      <td>1</td>\n",
       "      <td>0</td>\n",
       "      <td>Yes</td>\n",
       "      <td>Self-employed</td>\n",
       "      <td>Rural</td>\n",
       "      <td>174.12</td>\n",
       "      <td>24.0</td>\n",
       "      <td>never smoked</td>\n",
       "      <td>1</td>\n",
       "    </tr>\n",
       "  </tbody>\n",
       "</table>\n",
       "</div>"
      ]
     },
     "metadata": {},
     "output_type": "display_data"
    },
    {
     "name": "stdout",
     "output_type": "stream",
     "text": [
      "Number of rows: 5110\n",
      "Number of columns: 12\n"
     ]
    }
   ],
   "execution_count": 3
  },
  {
   "metadata": {},
   "cell_type": "markdown",
   "source": [
    "# 2.  Data cleaning\n",
    "Objective:\n",
    "1. Closer look at the values that consist of our data\n",
    "2. Look out for duplicates, and missing and/or unusual values"
   ],
   "id": "c2a3a4ba343554eb"
  },
  {
   "metadata": {},
   "cell_type": "markdown",
   "source": "## 2.1. Duplicate rows",
   "id": "d078915f787f206b"
  },
  {
   "metadata": {
    "ExecuteTime": {
     "end_time": "2024-09-20T23:17:56.947959Z",
     "start_time": "2024-09-20T23:17:56.945156Z"
    }
   },
   "cell_type": "code",
   "source": "print(stroke_data.id.duplicated().any())",
   "id": "a2f4b16548f4345f",
   "outputs": [
    {
     "name": "stdout",
     "output_type": "stream",
     "text": [
      "False\n"
     ]
    }
   ],
   "execution_count": 4
  },
  {
   "metadata": {},
   "cell_type": "markdown",
   "source": [
    "After confirming there is no duplicated id number/cases, since id number \n",
    "should not be relevant information to base our prediction on, we can remove it."
   ],
   "id": "2f6bd5c1acf48c17"
  },
  {
   "metadata": {
    "ExecuteTime": {
     "end_time": "2024-09-20T23:17:56.951256Z",
     "start_time": "2024-09-20T23:17:56.948529Z"
    }
   },
   "cell_type": "code",
   "source": "stroke_data = stroke_data.drop(columns=['id'])",
   "id": "37c9762b889f90cf",
   "outputs": [],
   "execution_count": 5
  },
  {
   "metadata": {},
   "cell_type": "markdown",
   "source": "## 2.2. Datatypes",
   "id": "c3570d94711b3a6c"
  },
  {
   "metadata": {
    "ExecuteTime": {
     "end_time": "2024-09-20T23:17:56.954513Z",
     "start_time": "2024-09-20T23:17:56.952018Z"
    }
   },
   "cell_type": "code",
   "source": [
    "datatype_data = stroke_data.dtypes\n",
    "datatype_data"
   ],
   "id": "fc2d5829dfb69550",
   "outputs": [
    {
     "data": {
      "text/plain": [
       "gender                object\n",
       "age                  float64\n",
       "hypertension           int64\n",
       "heart_disease          int64\n",
       "ever_married          object\n",
       "work_type             object\n",
       "Residence_type        object\n",
       "avg_glucose_level    float64\n",
       "bmi                  float64\n",
       "smoking_status        object\n",
       "stroke                 int64\n",
       "dtype: object"
      ]
     },
     "execution_count": 6,
     "metadata": {},
     "output_type": "execute_result"
    }
   ],
   "execution_count": 6
  },
  {
   "metadata": {},
   "cell_type": "markdown",
   "source": [
    "Certain features have unexpected datatypes, like age, hypertension, and \n",
    "heart_disease. Looking into the values itself will help clarify data types."
   ],
   "id": "a0a42e0e73179d03"
  },
  {
   "metadata": {},
   "cell_type": "markdown",
   "source": "## 2.3. Unique values",
   "id": "21fe42a29dc5e2bd"
  },
  {
   "metadata": {
    "ExecuteTime": {
     "end_time": "2024-09-20T23:17:56.959110Z",
     "start_time": "2024-09-20T23:17:56.955008Z"
    }
   },
   "cell_type": "code",
   "source": "stroke_data.nunique()",
   "id": "88dc0d4661b96d8b",
   "outputs": [
    {
     "data": {
      "text/plain": [
       "gender                  3\n",
       "age                   104\n",
       "hypertension            2\n",
       "heart_disease           2\n",
       "ever_married            2\n",
       "work_type               5\n",
       "Residence_type          2\n",
       "avg_glucose_level    3979\n",
       "bmi                   418\n",
       "smoking_status          4\n",
       "stroke                  2\n",
       "dtype: int64"
      ]
     },
     "execution_count": 7,
     "metadata": {},
     "output_type": "execute_result"
    }
   ],
   "execution_count": 7
  },
  {
   "metadata": {},
   "cell_type": "markdown",
   "source": [
    "Some features have unexpected amount of unique values. Looking into the \n",
    "values itself will help.<br>"
   ],
   "id": "c34fe97fa424246f"
  },
  {
   "metadata": {
    "ExecuteTime": {
     "end_time": "2024-09-20T23:17:56.971969Z",
     "start_time": "2024-09-20T23:17:56.960962Z"
    }
   },
   "cell_type": "code",
   "source": [
    "for column in stroke_data.columns:\n",
    "    df = stroke_data[column].value_counts()\n",
    "    display(df)"
   ],
   "id": "c45bc642a194119d",
   "outputs": [
    {
     "data": {
      "text/plain": [
       "gender\n",
       "Female    2994\n",
       "Male      2115\n",
       "Other        1\n",
       "Name: count, dtype: int64"
      ]
     },
     "metadata": {},
     "output_type": "display_data"
    },
    {
     "data": {
      "text/plain": [
       "age\n",
       "78.00    102\n",
       "57.00     95\n",
       "52.00     90\n",
       "54.00     87\n",
       "51.00     86\n",
       "        ... \n",
       "1.40       3\n",
       "0.48       3\n",
       "0.16       3\n",
       "0.40       2\n",
       "0.08       2\n",
       "Name: count, Length: 104, dtype: int64"
      ]
     },
     "metadata": {},
     "output_type": "display_data"
    },
    {
     "data": {
      "text/plain": [
       "hypertension\n",
       "0    4612\n",
       "1     498\n",
       "Name: count, dtype: int64"
      ]
     },
     "metadata": {},
     "output_type": "display_data"
    },
    {
     "data": {
      "text/plain": [
       "heart_disease\n",
       "0    4834\n",
       "1     276\n",
       "Name: count, dtype: int64"
      ]
     },
     "metadata": {},
     "output_type": "display_data"
    },
    {
     "data": {
      "text/plain": [
       "ever_married\n",
       "Yes    3353\n",
       "No     1757\n",
       "Name: count, dtype: int64"
      ]
     },
     "metadata": {},
     "output_type": "display_data"
    },
    {
     "data": {
      "text/plain": [
       "work_type\n",
       "Private          2925\n",
       "Self-employed     819\n",
       "children          687\n",
       "Govt_job          657\n",
       "Never_worked       22\n",
       "Name: count, dtype: int64"
      ]
     },
     "metadata": {},
     "output_type": "display_data"
    },
    {
     "data": {
      "text/plain": [
       "Residence_type\n",
       "Urban    2596\n",
       "Rural    2514\n",
       "Name: count, dtype: int64"
      ]
     },
     "metadata": {},
     "output_type": "display_data"
    },
    {
     "data": {
      "text/plain": [
       "avg_glucose_level\n",
       "93.88     6\n",
       "91.68     5\n",
       "91.85     5\n",
       "83.16     5\n",
       "73.00     5\n",
       "         ..\n",
       "111.93    1\n",
       "94.40     1\n",
       "95.57     1\n",
       "66.29     1\n",
       "85.28     1\n",
       "Name: count, Length: 3979, dtype: int64"
      ]
     },
     "metadata": {},
     "output_type": "display_data"
    },
    {
     "data": {
      "text/plain": [
       "bmi\n",
       "28.7    41\n",
       "28.4    38\n",
       "26.7    37\n",
       "27.6    37\n",
       "26.1    37\n",
       "        ..\n",
       "48.7     1\n",
       "49.2     1\n",
       "51.0     1\n",
       "49.4     1\n",
       "14.9     1\n",
       "Name: count, Length: 418, dtype: int64"
      ]
     },
     "metadata": {},
     "output_type": "display_data"
    },
    {
     "data": {
      "text/plain": [
       "smoking_status\n",
       "never smoked       1892\n",
       "Unknown            1544\n",
       "formerly smoked     885\n",
       "smokes              789\n",
       "Name: count, dtype: int64"
      ]
     },
     "metadata": {},
     "output_type": "display_data"
    },
    {
     "data": {
      "text/plain": [
       "stroke\n",
       "0    4861\n",
       "1     249\n",
       "Name: count, dtype: int64"
      ]
     },
     "metadata": {},
     "output_type": "display_data"
    }
   ],
   "execution_count": 8
  },
  {
   "metadata": {},
   "cell_type": "markdown",
   "source": [
    "Looking more into work_type registered as 'children', as the difference \n",
    "between 'children' and 'Never_worked' is not clear."
   ],
   "id": "31619b563702bef4"
  },
  {
   "metadata": {
    "ExecuteTime": {
     "end_time": "2024-09-20T23:17:56.977101Z",
     "start_time": "2024-09-20T23:17:56.972567Z"
    }
   },
   "cell_type": "code",
   "source": "stroke_data[stroke_data.work_type=='children'].age.describe()",
   "id": "467cc8380a658ed0",
   "outputs": [
    {
     "data": {
      "text/plain": [
       "count    687.000000\n",
       "mean       6.841339\n",
       "std        4.533364\n",
       "min        0.080000\n",
       "25%        2.000000\n",
       "50%        6.000000\n",
       "75%       11.000000\n",
       "max       16.000000\n",
       "Name: age, dtype: float64"
      ]
     },
     "execution_count": 9,
     "metadata": {},
     "output_type": "execute_result"
    }
   ],
   "execution_count": 9
  },
  {
   "metadata": {},
   "cell_type": "markdown",
   "source": "All labeled as children are <= 16 years old.",
   "id": "e1618f0e7c1f3af0"
  },
  {
   "metadata": {
    "ExecuteTime": {
     "end_time": "2024-09-20T23:17:56.980227Z",
     "start_time": "2024-09-20T23:17:56.977559Z"
    }
   },
   "cell_type": "code",
   "source": "stroke_data[(stroke_data.age<=16)]['work_type'].value_counts()",
   "id": "f25196b8b12ce8d4",
   "outputs": [
    {
     "data": {
      "text/plain": [
       "work_type\n",
       "children         687\n",
       "Private           85\n",
       "Never_worked      12\n",
       "Self-employed      9\n",
       "Govt_job           3\n",
       "Name: count, dtype: int64"
      ]
     },
     "execution_count": 10,
     "metadata": {},
     "output_type": "execute_result"
    }
   ],
   "execution_count": 10
  },
  {
   "metadata": {},
   "cell_type": "markdown",
   "source": [
    "It is clear that not all under 16 year olds are labeled as 'children'. Some \n",
    "are 'Never_worked', and some are working. It is unclear why only part is \n",
    "labeled as 'children'. <br>However, it since this\n",
    " feature is to state their work status and 'children' in this context would \n",
    " mean not working, we can consolidate 'children' into 'Never_worked'. <br>\n",
    " This would ensure consistency across all age groups, without losing the age\n",
    "  information, as it is in the 'age' column."
   ],
   "id": "3c0b4710f29e35ce"
  },
  {
   "metadata": {
    "ExecuteTime": {
     "end_time": "2024-09-20T23:17:56.983068Z",
     "start_time": "2024-09-20T23:17:56.980691Z"
    }
   },
   "cell_type": "code",
   "source": [
    "stroke_data.loc[stroke_data['work_type'] == 'children', 'work_type'] = \\\n",
    "    'Never_worked'"
   ],
   "id": "1dfc797a0a5811ae",
   "outputs": [],
   "execution_count": 11
  },
  {
   "metadata": {},
   "cell_type": "markdown",
   "source": "## 2.4. Missing values",
   "id": "c8e5cc192f7617cd"
  },
  {
   "metadata": {
    "ExecuteTime": {
     "end_time": "2024-09-20T23:17:56.989113Z",
     "start_time": "2024-09-20T23:17:56.983671Z"
    }
   },
   "cell_type": "code",
   "source": "missing_values(df=stroke_data)",
   "id": "c03098f591c0e9c2",
   "outputs": [
    {
     "data": {
      "text/plain": [
       "                              Column  Missing Values  Percentage Missing\n",
       "gender                        gender               0                0.00\n",
       "age                              age               0                0.00\n",
       "hypertension            hypertension               0                0.00\n",
       "heart_disease          heart_disease               0                0.00\n",
       "ever_married            ever_married               0                0.00\n",
       "work_type                  work_type               0                0.00\n",
       "Residence_type        Residence_type               0                0.00\n",
       "avg_glucose_level  avg_glucose_level               0                0.00\n",
       "bmi                              bmi             201                3.93\n",
       "smoking_status        smoking_status               0                0.00\n",
       "stroke                        stroke               0                0.00"
      ],
      "text/html": [
       "<div>\n",
       "<style scoped>\n",
       "    .dataframe tbody tr th:only-of-type {\n",
       "        vertical-align: middle;\n",
       "    }\n",
       "\n",
       "    .dataframe tbody tr th {\n",
       "        vertical-align: top;\n",
       "    }\n",
       "\n",
       "    .dataframe thead th {\n",
       "        text-align: right;\n",
       "    }\n",
       "</style>\n",
       "<table border=\"1\" class=\"dataframe\">\n",
       "  <thead>\n",
       "    <tr style=\"text-align: right;\">\n",
       "      <th></th>\n",
       "      <th>Column</th>\n",
       "      <th>Missing Values</th>\n",
       "      <th>Percentage Missing</th>\n",
       "    </tr>\n",
       "  </thead>\n",
       "  <tbody>\n",
       "    <tr>\n",
       "      <th>gender</th>\n",
       "      <td>gender</td>\n",
       "      <td>0</td>\n",
       "      <td>0.00</td>\n",
       "    </tr>\n",
       "    <tr>\n",
       "      <th>age</th>\n",
       "      <td>age</td>\n",
       "      <td>0</td>\n",
       "      <td>0.00</td>\n",
       "    </tr>\n",
       "    <tr>\n",
       "      <th>hypertension</th>\n",
       "      <td>hypertension</td>\n",
       "      <td>0</td>\n",
       "      <td>0.00</td>\n",
       "    </tr>\n",
       "    <tr>\n",
       "      <th>heart_disease</th>\n",
       "      <td>heart_disease</td>\n",
       "      <td>0</td>\n",
       "      <td>0.00</td>\n",
       "    </tr>\n",
       "    <tr>\n",
       "      <th>ever_married</th>\n",
       "      <td>ever_married</td>\n",
       "      <td>0</td>\n",
       "      <td>0.00</td>\n",
       "    </tr>\n",
       "    <tr>\n",
       "      <th>work_type</th>\n",
       "      <td>work_type</td>\n",
       "      <td>0</td>\n",
       "      <td>0.00</td>\n",
       "    </tr>\n",
       "    <tr>\n",
       "      <th>Residence_type</th>\n",
       "      <td>Residence_type</td>\n",
       "      <td>0</td>\n",
       "      <td>0.00</td>\n",
       "    </tr>\n",
       "    <tr>\n",
       "      <th>avg_glucose_level</th>\n",
       "      <td>avg_glucose_level</td>\n",
       "      <td>0</td>\n",
       "      <td>0.00</td>\n",
       "    </tr>\n",
       "    <tr>\n",
       "      <th>bmi</th>\n",
       "      <td>bmi</td>\n",
       "      <td>201</td>\n",
       "      <td>3.93</td>\n",
       "    </tr>\n",
       "    <tr>\n",
       "      <th>smoking_status</th>\n",
       "      <td>smoking_status</td>\n",
       "      <td>0</td>\n",
       "      <td>0.00</td>\n",
       "    </tr>\n",
       "    <tr>\n",
       "      <th>stroke</th>\n",
       "      <td>stroke</td>\n",
       "      <td>0</td>\n",
       "      <td>0.00</td>\n",
       "    </tr>\n",
       "  </tbody>\n",
       "</table>\n",
       "</div>"
      ]
     },
     "execution_count": 12,
     "metadata": {},
     "output_type": "execute_result"
    }
   ],
   "execution_count": 12
  },
  {
   "metadata": {},
   "cell_type": "markdown",
   "source": [
    "To properly impute missing values, it is necessary to first understand the \n",
    "sampling population and if the missing values belong to a specific subset of\n",
    " sampling population."
   ],
   "id": "20854b7f97ba8040"
  },
  {
   "metadata": {
    "ExecuteTime": {
     "end_time": "2024-09-20T23:17:56.991928Z",
     "start_time": "2024-09-20T23:17:56.989797Z"
    }
   },
   "cell_type": "code",
   "source": [
    "HTML('''\n",
    "<div class=\"alert alert-block alert-info\">\n",
    "    <b>Data Cleaning Insights:</b><br>\n",
    "    1. There are no duplicated rows, and each row is identified by a unique ID.<br>\n",
    "    2. The feature 'id' is irrelevant to our stroke prediction, so it was removed.<br>\n",
    "    3. Consolidated 'children' work type to 'Never_worked'. <br>\n",
    "    4. All missing values come from the 'bmi' feature, and further analysis \n",
    "    is needed to determine proper imputation methods.\n",
    "</div>\n",
    "''')"
   ],
   "id": "b649657d3e6e5e5f",
   "outputs": [
    {
     "data": {
      "text/plain": [
       "<IPython.core.display.HTML object>"
      ],
      "text/html": [
       "\n",
       "<div class=\"alert alert-block alert-info\">\n",
       "    <b>Data Cleaning Insights:</b><br>\n",
       "    1. There are no duplicated rows, and each row is identified by a unique ID.<br>\n",
       "    2. The feature 'id' is irrelevant to our stroke prediction, so it was removed.<br>\n",
       "    3. Consolidated 'children' work type to 'Never_worked'. <br>\n",
       "    4. All missing values come from the 'bmi' feature, and further analysis \n",
       "    is needed to determine proper imputation methods.\n",
       "</div>\n"
      ]
     },
     "execution_count": 13,
     "metadata": {},
     "output_type": "execute_result"
    }
   ],
   "execution_count": 13
  },
  {
   "metadata": {},
   "cell_type": "markdown",
   "source": [
    "# 3. EDA\n",
    "\n",
    "Objectives:\n",
    "1. Data distribution\n",
    "2. Check and handle outliers, missing values\n",
    "3. Comparison and A/B test between data with and without stroke\n",
    "4. Understand how our data is collect and possible bias"
   ],
   "id": "2c4b1c3744e03d5a"
  },
  {
   "metadata": {},
   "cell_type": "markdown",
   "source": "## 3.1. Distribution",
   "id": "6cfd7aee07e08876"
  },
  {
   "metadata": {},
   "cell_type": "markdown",
   "source": "Identify features, label, and different feature types.",
   "id": "b2efdfaf00a45456"
  },
  {
   "metadata": {
    "ExecuteTime": {
     "end_time": "2024-09-20T23:17:56.994467Z",
     "start_time": "2024-09-20T23:17:56.992386Z"
    }
   },
   "cell_type": "code",
   "source": [
    "target_name = 'stroke'\n",
    "data, target = (stroke_data.drop(columns=[target_name]), \n",
    "                stroke_data[target_name])"
   ],
   "id": "9019c01f681607c6",
   "outputs": [],
   "execution_count": 14
  },
  {
   "metadata": {
    "ExecuteTime": {
     "end_time": "2024-09-20T23:17:56.998101Z",
     "start_time": "2024-09-20T23:17:56.995655Z"
    }
   },
   "cell_type": "code",
   "source": [
    "categorical_columns_selector = selector(dtype_exclude='float64')\n",
    "numerical_columns_selector = selector(dtype_include='float64')\n",
    "\n",
    "categorical_columns = categorical_columns_selector(data)\n",
    "numerical_columns = numerical_columns_selector(data)"
   ],
   "id": "fc6c652a3d3001ee",
   "outputs": [],
   "execution_count": 15
  },
  {
   "metadata": {},
   "cell_type": "markdown",
   "source": "**Numerical Features**",
   "id": "b0398eae6addb48d"
  },
  {
   "metadata": {
    "ExecuteTime": {
     "end_time": "2024-09-20T23:17:57.004074Z",
     "start_time": "2024-09-20T23:17:56.998732Z"
    }
   },
   "cell_type": "code",
   "source": "data[numerical_columns].describe()",
   "id": "81481e8334c7d329",
   "outputs": [
    {
     "data": {
      "text/plain": [
       "               age  avg_glucose_level          bmi\n",
       "count  5110.000000        5110.000000  4909.000000\n",
       "mean     43.226614         106.147677    28.893237\n",
       "std      22.612647          45.283560     7.854067\n",
       "min       0.080000          55.120000    10.300000\n",
       "25%      25.000000          77.245000    23.500000\n",
       "50%      45.000000          91.885000    28.100000\n",
       "75%      61.000000         114.090000    33.100000\n",
       "max      82.000000         271.740000    97.600000"
      ],
      "text/html": [
       "<div>\n",
       "<style scoped>\n",
       "    .dataframe tbody tr th:only-of-type {\n",
       "        vertical-align: middle;\n",
       "    }\n",
       "\n",
       "    .dataframe tbody tr th {\n",
       "        vertical-align: top;\n",
       "    }\n",
       "\n",
       "    .dataframe thead th {\n",
       "        text-align: right;\n",
       "    }\n",
       "</style>\n",
       "<table border=\"1\" class=\"dataframe\">\n",
       "  <thead>\n",
       "    <tr style=\"text-align: right;\">\n",
       "      <th></th>\n",
       "      <th>age</th>\n",
       "      <th>avg_glucose_level</th>\n",
       "      <th>bmi</th>\n",
       "    </tr>\n",
       "  </thead>\n",
       "  <tbody>\n",
       "    <tr>\n",
       "      <th>count</th>\n",
       "      <td>5110.000000</td>\n",
       "      <td>5110.000000</td>\n",
       "      <td>4909.000000</td>\n",
       "    </tr>\n",
       "    <tr>\n",
       "      <th>mean</th>\n",
       "      <td>43.226614</td>\n",
       "      <td>106.147677</td>\n",
       "      <td>28.893237</td>\n",
       "    </tr>\n",
       "    <tr>\n",
       "      <th>std</th>\n",
       "      <td>22.612647</td>\n",
       "      <td>45.283560</td>\n",
       "      <td>7.854067</td>\n",
       "    </tr>\n",
       "    <tr>\n",
       "      <th>min</th>\n",
       "      <td>0.080000</td>\n",
       "      <td>55.120000</td>\n",
       "      <td>10.300000</td>\n",
       "    </tr>\n",
       "    <tr>\n",
       "      <th>25%</th>\n",
       "      <td>25.000000</td>\n",
       "      <td>77.245000</td>\n",
       "      <td>23.500000</td>\n",
       "    </tr>\n",
       "    <tr>\n",
       "      <th>50%</th>\n",
       "      <td>45.000000</td>\n",
       "      <td>91.885000</td>\n",
       "      <td>28.100000</td>\n",
       "    </tr>\n",
       "    <tr>\n",
       "      <th>75%</th>\n",
       "      <td>61.000000</td>\n",
       "      <td>114.090000</td>\n",
       "      <td>33.100000</td>\n",
       "    </tr>\n",
       "    <tr>\n",
       "      <th>max</th>\n",
       "      <td>82.000000</td>\n",
       "      <td>271.740000</td>\n",
       "      <td>97.600000</td>\n",
       "    </tr>\n",
       "  </tbody>\n",
       "</table>\n",
       "</div>"
      ]
     },
     "execution_count": 16,
     "metadata": {},
     "output_type": "execute_result"
    }
   ],
   "execution_count": 16
  },
  {
   "metadata": {},
   "cell_type": "markdown",
   "source": [
    "Plotting boxplot over violin plot for numerical features to have a visual \n",
    "understanding of the overall distribution, range, and outliers."
   ],
   "id": "9ee1d7a1edbdcb10"
  },
  {
   "metadata": {
    "ExecuteTime": {
     "end_time": "2024-09-20T23:22:05.750772Z",
     "start_time": "2024-09-20T23:22:05.548599Z"
    }
   },
   "cell_type": "code",
   "source": [
    "plt.figure(figsize=(5,4))\n",
    "violin_boxplot(data=data, columns=numerical_columns, title='Numerical Data '\n",
    "                                                           'Violin Box '\n",
    "                                                           'Plot')\n",
    "plt.show()"
   ],
   "id": "336d0b1e6684d83a",
   "outputs": [
    {
     "ename": "AttributeError",
     "evalue": "'NoneType' object has no attribute 'set_title'",
     "output_type": "error",
     "traceback": [
      "\u001B[0;31m---------------------------------------------------------------------------\u001B[0m",
      "\u001B[0;31mAttributeError\u001B[0m                            Traceback (most recent call last)",
      "Cell \u001B[0;32mIn[20], line 2\u001B[0m\n\u001B[1;32m      1\u001B[0m plt\u001B[38;5;241m.\u001B[39mfigure(figsize\u001B[38;5;241m=\u001B[39m(\u001B[38;5;241m5\u001B[39m,\u001B[38;5;241m4\u001B[39m))\n\u001B[0;32m----> 2\u001B[0m \u001B[43mviolin_boxplot\u001B[49m\u001B[43m(\u001B[49m\u001B[43mdata\u001B[49m\u001B[38;5;241;43m=\u001B[39;49m\u001B[43mdata\u001B[49m\u001B[43m,\u001B[49m\u001B[43m \u001B[49m\u001B[43mcolumns\u001B[49m\u001B[38;5;241;43m=\u001B[39;49m\u001B[43mnumerical_columns\u001B[49m\u001B[43m,\u001B[49m\u001B[43m \u001B[49m\u001B[43mtitle\u001B[49m\u001B[38;5;241;43m=\u001B[39;49m\u001B[38;5;124;43m'\u001B[39;49m\u001B[38;5;124;43mNumerical Data \u001B[39;49m\u001B[38;5;124;43m'\u001B[39;49m\n\u001B[1;32m      3\u001B[0m \u001B[43m                                                           \u001B[49m\u001B[38;5;124;43m'\u001B[39;49m\u001B[38;5;124;43mViolin Box \u001B[39;49m\u001B[38;5;124;43m'\u001B[39;49m\n\u001B[1;32m      4\u001B[0m \u001B[43m                                                           \u001B[49m\u001B[38;5;124;43m'\u001B[39;49m\u001B[38;5;124;43mPlot\u001B[39;49m\u001B[38;5;124;43m'\u001B[39;49m\u001B[43m)\u001B[49m\n\u001B[1;32m      5\u001B[0m plt\u001B[38;5;241m.\u001B[39mshow()\n",
      "File \u001B[0;32m~/PycharmProjects/chilng-DS.v2.5.3.2.5/utils/eda.py:29\u001B[0m, in \u001B[0;36mviolin_boxplot\u001B[0;34m(data, columns, title, ax)\u001B[0m\n\u001B[1;32m     25\u001B[0m sns\u001B[38;5;241m.\u001B[39mboxplot(data\u001B[38;5;241m=\u001B[39mdata[columns], width\u001B[38;5;241m=\u001B[39m\u001B[38;5;241m0.2\u001B[39m,\n\u001B[1;32m     26\u001B[0m             showfliers\u001B[38;5;241m=\u001B[39m\u001B[38;5;28;01mTrue\u001B[39;00m,\n\u001B[1;32m     27\u001B[0m             boxprops\u001B[38;5;241m=\u001B[39m{\u001B[38;5;124m'\u001B[39m\u001B[38;5;124mfacecolor\u001B[39m\u001B[38;5;124m'\u001B[39m: \u001B[38;5;124m'\u001B[39m\u001B[38;5;124mNone\u001B[39m\u001B[38;5;124m'\u001B[39m}, orient\u001B[38;5;241m=\u001B[39m\u001B[38;5;124m'\u001B[39m\u001B[38;5;124mh\u001B[39m\u001B[38;5;124m'\u001B[39m, ax\u001B[38;5;241m=\u001B[39max)\n\u001B[1;32m     28\u001B[0m \u001B[38;5;28;01mif\u001B[39;00m title:\n\u001B[0;32m---> 29\u001B[0m     \u001B[43max\u001B[49m\u001B[38;5;241;43m.\u001B[39;49m\u001B[43mset_title\u001B[49m(title)\n\u001B[1;32m     30\u001B[0m \u001B[38;5;28;01mreturn\u001B[39;00m plt\u001B[38;5;241m.\u001B[39mshow()\n",
      "\u001B[0;31mAttributeError\u001B[0m: 'NoneType' object has no attribute 'set_title'"
     ]
    },
    {
     "data": {
      "text/plain": [
       "<Figure size 500x400 with 1 Axes>"
      ],
      "image/png": "[encoded data removed]"
     },
     "metadata": {},
     "output_type": "display_data"
    }
   ],
   "execution_count": 20
  },
  {
   "metadata": {
    "ExecuteTime": {
     "end_time": "2024-09-20T23:18:03.352193Z",
     "start_time": "2024-09-20T23:18:02.959273Z"
    }
   },
   "cell_type": "code",
   "source": [
    "fig, axes = plt.subplots(nrows=1, ncols=2, figsize=(10,5), sharex=True)\n",
    "\n",
    "violin_boxplot(data=stroke_data[stroke_data.stroke == 1], \n",
    "               columns=numerical_columns, title='stroke - True', ax=axes[1])\n",
    "violin_boxplot(data=stroke_data[stroke_data.stroke == 0], \n",
    "               columns=numerical_columns, title='stroke - False', ax=axes[0])\n",
    "\n",
    "plt.tight_layout()\n",
    "plt.show()"
   ],
   "id": "738d19520f48a35f",
   "outputs": [
    {
     "data": {
      "text/plain": [
       "<Figure size 1000x500 with 2 Axes>"
      ],
      "image/png": "[encoded data removed]"
     },
     "metadata": {},
     "output_type": "display_data"
    }
   ],
   "execution_count": 18
  },
  {
   "metadata": {},
   "cell_type": "markdown",
   "source": "**Categorical Features**",
   "id": "1147ab7a911c1848"
  },
  {
   "metadata": {},
   "cell_type": "markdown",
   "source": [
    "Represent categorical features in barplots, visualize unique values for each\n",
    " feature and their distribution in percentage."
   ],
   "id": "7417135ff614cf62"
  },
  {
   "metadata": {
    "ExecuteTime": {
     "end_time": "2024-09-20T23:17:57.426100Z",
     "start_time": "2024-09-20T23:17:57.426044Z"
    }
   },
   "cell_type": "code",
   "source": [
    "percentage_subplots(data=data, columns=categorical_columns, title='Categorical '\n",
    "                                                             'data '\n",
    "                                                             'Distribution',\n",
    "               nrows=3, ncols=3)"
   ],
   "id": "30f61df72ed27626",
   "outputs": [],
   "execution_count": null
  },
  {
   "metadata": {},
   "cell_type": "markdown",
   "source": "**Target Variable**",
   "id": "4e35f9df19d0e1cf"
  },
  {
   "metadata": {},
   "cell_type": "markdown",
   "source": "Target variable and its distribution in percentage.",
   "id": "6bb9d7c0d2585846"
  },
  {
   "metadata": {},
   "cell_type": "code",
   "source": "percentage_subplots(data=stroke_data, columns=['stroke'], title='Target Variable')",
   "id": "bfb73cdba515cd35",
   "outputs": [],
   "execution_count": null
  },
  {
   "metadata": {},
   "cell_type": "code",
   "source": [
    "HTML('''\n",
    "<div class=\"alert alert-block alert-info\">\n",
    "    <b>Distribution Insights:</b><br>\n",
    "    <i>numerical features...</i><br>\n",
    "    1. Numerical features show very different ranges of values, signalling an \n",
    "    importance in scaling in future feature engineering.<br>\n",
    "    2. Average Glucose Level has the most outliers, which can be justified \n",
    "    by the bimodal distribution. This shows 2 subpopulations, which could be \n",
    "    relevant to our stroke prediction. <br>\n",
    "    3. 'age' includes children less than 1 year old, justifies why the \n",
    "    datatype is float.<br><br>\n",
    "    \n",
    "    <i>for categorical features...</i><br>\n",
    "    4. Inconsistent labeling among categorical features, preprocessing \n",
    "    required before applying learning model.<br>\n",
    "    5. Outlier responses in 'gender'.<br><br>\n",
    "    \n",
    "    <i>and the target variable...</i><br>\n",
    "    6. Imbalanced dataset, with only 4.87% responding positively to stroke. \n",
    "    <br>\n",
    "</div>\n",
    "''')"
   ],
   "id": "5e0e277398878f7a",
   "outputs": [],
   "execution_count": null
  },
  {
   "metadata": {},
   "cell_type": "markdown",
   "source": [
    "## 3.2. Missing values\n",
    "\n",
    "Objective: <br>\n",
    "All missing values come from the 'bmi' feature. Determine proper treatment."
   ],
   "id": "4dc5192610dd8596"
  },
  {
   "metadata": {},
   "cell_type": "code",
   "source": "stroke_data[numerical_columns].describe()",
   "id": "26e358f82effaac4",
   "outputs": [],
   "execution_count": null
  },
  {
   "metadata": {},
   "cell_type": "code",
   "source": "stroke_data[stroke_data.bmi.isnull()][numerical_columns].describe()",
   "id": "420536fc82716c01",
   "outputs": [],
   "execution_count": null
  },
  {
   "metadata": {},
   "cell_type": "code",
   "source": [
    "violin_boxplot(data=stroke_data[stroke_data.bmi.isnull()], \n",
    "               columns=numerical_columns, title='bmi missing - True ')"
   ],
   "id": "731a314d3610ece",
   "outputs": [],
   "execution_count": null
  },
  {
   "metadata": {},
   "cell_type": "code",
   "source": [
    "sns.pairplot(stroke_data[numerical_columns])\n",
    "plt.show()"
   ],
   "id": "5cec3635ed62094d",
   "outputs": [],
   "execution_count": null
  }
 ],
 "metadata": {
  "kernelspec": {
   "display_name": "Python 3",
   "language": "python",
   "name": "python3"
  },
  "language_info": {
   "codemirror_mode": {
    "name": "ipython",
    "version": 2
   },
   "file_extension": ".py",
   "mimetype": "text/x-python",
   "name": "python",
   "nbconvert_exporter": "python",
   "pygments_lexer": "ipython2",
   "version": "2.7.6"
  }
 },
 "nbformat": 4,
 "nbformat_minor": 5
}
